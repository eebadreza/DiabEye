{
 "cells": [
  {
   "cell_type": "code",
   "execution_count": null,
   "metadata": {
    "colab": {
     "base_uri": "https://localhost:8080/"
    },
    "id": "XJCidSmZvd6h",
    "outputId": "190c11c3-b750-45b1-c4f2-fac3245f7065"
   },
   "outputs": [
    {
     "name": "stdout",
     "output_type": "stream",
     "text": [
      "Drive already mounted at /content/drive; to attempt to forcibly remount, call drive.mount(\"/content/drive\", force_remount=True).\n"
     ]
    }
   ],
   "source": [
    "# from google.colab import drive\n",
    "# drive.mount('/content/drive')"
   ]
  },
  {
   "cell_type": "code",
   "execution_count": null,
   "metadata": {
    "id": "WgapsMhBy1F6"
   },
   "outputs": [],
   "source": [
    "import tensorflow as tf\n",
    "import matplotlib.pyplot as plt\n",
    "\n",
    "from keras.layers import Conv2D, Activation, GlobalAvgPool2D, MaxPooling2D, Dense, Flatten, Dropout\n",
    "from keras.models import Sequential\n",
    "\n",
    "file1='/content/drive/MyDrive/gaussian_filtered_images/gaussian_filtered_images'\n",
    "\n",
    "from keras.preprocessing.image import ImageDataGenerator"
   ]
  },
  {
   "cell_type": "code",
   "execution_count": null,
   "metadata": {
    "colab": {
     "base_uri": "https://localhost:8080/"
    },
    "id": "uUTB2glpy1CZ",
    "outputId": "ca171bb1-9aaf-4c24-8359-1019cf4b9833"
   },
   "outputs": [
    {
     "name": "stdout",
     "output_type": "stream",
     "text": [
      "Found 2467 images belonging to 5 classes.\n",
      "Found 1211 images belonging to 5 classes.\n"
     ]
    }
   ],
   "source": [
    "image_generator = tf.keras.preprocessing.image.ImageDataGenerator(validation_split=.33, horizontal_flip=True)\n",
    "train_data_gen = image_generator.flow_from_directory(directory = file1, target_size = (384, 384), batch_size = 32, class_mode = 'categorical', subset = 'training')\n",
    "\n",
    "val_data_gen = image_generator.flow_from_directory(directory = file1, target_size = (384, 384), batch_size = 24, class_mode = 'categorical', subset = 'validation')"
   ]
  },
  {
   "cell_type": "code",
   "execution_count": null,
   "metadata": {
    "id": "TeX_BOo_y1AL"
   },
   "outputs": [],
   "source": [
    "cnn = tf.keras.models.Sequential()\n",
    "cnn.add(tf.keras.layers.Dense(5, activation = 'relu', input_shape=[384, 384, 3]))\n",
    "cnn.add(tf.keras.layers.Conv2D(128, kernel_size = [3,3], padding='valid', activation = 'relu'))\n",
    "cnn.add(tf.keras.layers.MaxPooling2D(pool_size = [3,3], strides=2, padding = 'valid'))\n",
    "cnn.add(tf.keras.layers.Conv2D(64, kernel_size = [2,2], padding='valid', activation = 'relu'))\n",
    "cnn.add(tf.keras.layers.MaxPooling2D(pool_size = [2,2], strides=2, padding = 'valid'))\n",
    "cnn.add(tf.keras.layers.Conv2D(32, kernel_size = [2,2], padding='valid', activation = 'relu'))\n",
    "cnn.add(tf.keras.layers.MaxPooling2D(pool_size = [2,2], strides=2, padding = 'valid'))\n",
    "cnn.add(tf.keras.layers.Conv2D(16, kernel_size = [2,2], padding='valid', activation = 'relu'))\n",
    "cnn.add(tf.keras.layers.MaxPooling2D(pool_size = [2,2], strides=2, padding = 'valid'))\n",
    "cnn.add(tf.keras.layers.Conv2D(8, kernel_size = [2,2], padding='valid', activation = 'relu'))\n",
    "cnn.add(tf.keras.layers.MaxPooling2D(pool_size = [2,2], strides=2, padding = 'valid'))\n",
    "cnn.add(tf.keras.layers.Conv2D(4, kernel_size = [2,2], padding='valid', activation = 'relu'))\n",
    "cnn.add(tf.keras.layers.MaxPooling2D(pool_size = [2,2], strides=2, padding = 'valid'))\n",
    "cnn.add(tf.keras.layers.Flatten())\n",
    "cnn.add(tf.keras.layers.Dense(5, activation='softmax'))\n",
    "cnn.compile(optimizer = 'adam', loss = 'categorical_crossentropy', metrics= ['categorical_accuracy'])"
   ]
  },
  {
   "cell_type": "code",
   "execution_count": null,
   "metadata": {
    "colab": {
     "base_uri": "https://localhost:8080/"
    },
    "id": "qKxFhIPqy09n",
    "outputId": "2d4b9338-3129-4061-8991-ea9d5d8fa891"
   },
   "outputs": [
    {
     "name": "stdout",
     "output_type": "stream",
     "text": [
      "Model: \"sequential\"\n",
      "_________________________________________________________________\n",
      " Layer (type)                Output Shape              Param #   \n",
      "=================================================================\n",
      " dense (Dense)               (None, 384, 384, 5)       20        \n",
      "                                                                 \n",
      " conv2d (Conv2D)             (None, 382, 382, 128)     5888      \n",
      "                                                                 \n",
      " max_pooling2d (MaxPooling2  (None, 190, 190, 128)     0         \n",
      " D)                                                              \n",
      "                                                                 \n",
      " conv2d_1 (Conv2D)           (None, 189, 189, 64)      32832     \n",
      "                                                                 \n",
      " max_pooling2d_1 (MaxPoolin  (None, 94, 94, 64)        0         \n",
      " g2D)                                                            \n",
      "                                                                 \n",
      " conv2d_2 (Conv2D)           (None, 93, 93, 32)        8224      \n",
      "                                                                 \n",
      " max_pooling2d_2 (MaxPoolin  (None, 46, 46, 32)        0         \n",
      " g2D)                                                            \n",
      "                                                                 \n",
      " conv2d_3 (Conv2D)           (None, 45, 45, 16)        2064      \n",
      "                                                                 \n",
      " max_pooling2d_3 (MaxPoolin  (None, 22, 22, 16)        0         \n",
      " g2D)                                                            \n",
      "                                                                 \n",
      " conv2d_4 (Conv2D)           (None, 21, 21, 8)         520       \n",
      "                                                                 \n",
      " max_pooling2d_4 (MaxPoolin  (None, 10, 10, 8)         0         \n",
      " g2D)                                                            \n",
      "                                                                 \n",
      " conv2d_5 (Conv2D)           (None, 9, 9, 4)           132       \n",
      "                                                                 \n",
      " max_pooling2d_5 (MaxPoolin  (None, 4, 4, 4)           0         \n",
      " g2D)                                                            \n",
      "                                                                 \n",
      " flatten (Flatten)           (None, 64)                0         \n",
      "                                                                 \n",
      " dense_1 (Dense)             (None, 5)                 325       \n",
      "                                                                 \n",
      "=================================================================\n",
      "Total params: 50005 (195.33 KB)\n",
      "Trainable params: 50005 (195.33 KB)\n",
      "Non-trainable params: 0 (0.00 Byte)\n",
      "_________________________________________________________________\n"
     ]
    }
   ],
   "source": [
    "cnn.summary()"
   ]
  },
  {
   "cell_type": "code",
   "execution_count": null,
   "metadata": {
    "colab": {
     "background_save": true,
     "base_uri": "https://localhost:8080/"
    },
    "id": "weV69jxyy06i",
    "outputId": "41eaf916-1cb5-4b74-e6fb-14cf20c47e17"
   },
   "outputs": [
    {
     "name": "stdout",
     "output_type": "stream",
     "text": [
      "Epoch 1/30\n",
      "78/78 - 2100s - loss: 1.5728 - categorical_accuracy: 0.5030 - val_loss: 1.1137 - val_categorical_accuracy: 0.5417 - 2100s/epoch - 27s/step\n",
      "Epoch 2/30\n"
     ]
    }
   ],
   "source": [
    "history = cnn.fit(train_data_gen, validation_data = val_data_gen, epochs=30, verbose=2)"
   ]
  },
  {
   "cell_type": "code",
   "execution_count": null,
   "metadata": {
    "colab": {
     "background_save": true
    },
    "id": "wj9qMMvvTXt2"
   },
   "outputs": [],
   "source": [
    "import cv2\n",
    "import matplotlib.pyplot as plt\n",
    "import numpy as np\n",
    "import cv2\n",
    "\n",
    "def prepare(image):\n",
    "  IMG_SIZE=384\n",
    "  img_array = cv2.imread('/content/drive/MyDrive/gaussian_filtered_images/gaussian_filtered_images/Moderate/000c1434d8d7.png', cv2.IMREAD_COLOR)\n",
    "  new_array = cv2.resize(img_array, (IMG_SIZE, IMG_SIZE))\n",
    "  return new_array.reshape(-1, IMG_SIZE, IMG_SIZE, 3)\n",
    "\n",
    "y=cnn.predict([prepare('/content/drive/MyDrive/gaussian_filtered_images/gaussian_filtered_images/Moderate/000c1434d8d7.png')])\n",
    "print(y)\n",
    "\n",
    "img = cv2.imread('/content/drive/MyDrive/gaussian_filtered_images/gaussian_filtered_images/Moderate/000c1434d8d7.png',0)\n",
    "plt.imshow(img, interpolation = 'bicubic')\n",
    "plt.xticks([]), plt.yticks([])\n",
    "plt.show()"
   ]
  },
  {
   "cell_type": "code",
   "execution_count": null,
   "metadata": {
    "colab": {
     "background_save": true
    },
    "id": "_gMNyRLAFf9H"
   },
   "outputs": [],
   "source": [
    "np.argmax(y)"
   ]
  },
  {
   "cell_type": "code",
   "execution_count": null,
   "metadata": {
    "colab": {
     "background_save": true
    },
    "id": "eabphlteGcsq"
   },
   "outputs": [],
   "source": [
    "def prepare(image):\n",
    "  IMG_SIZE=384\n",
    "  img_array = cv2.imread('/content/drive/MyDrive/gaussian_filtered_images/gaussian_filtered_images/Mild/0024cdab0c1e.png', cv2.IMREAD_COLOR)\n",
    "  new_array = cv2.resize(img_array, (IMG_SIZE, IMG_SIZE))\n",
    "  return new_array.reshape(-1, IMG_SIZE, IMG_SIZE, 3)\n",
    "\n",
    "x=cnn.predict([prepare('/content/drive/MyDrive/gaussian_filtered_images/gaussian_filtered_images/Mild/0024cdab0c1e.png')])\n",
    "print(x)\n",
    "\n",
    "img = cv2.imread('/content/drive/MyDrive/gaussian_filtered_images/gaussian_filtered_images/Mild/0024cdab0c1e.png',0)\n",
    "plt.imshow(img, interpolation = 'bicubic')\n",
    "plt.xticks([]), plt.yticks([])\n",
    "plt.show()"
   ]
  },
  {
   "cell_type": "code",
   "execution_count": null,
   "metadata": {
    "colab": {
     "background_save": true
    },
    "id": "3_2ZQgWIHAap"
   },
   "outputs": [],
   "source": [
    "np.argmax(x)"
   ]
  },
  {
   "cell_type": "code",
   "execution_count": null,
   "metadata": {
    "colab": {
     "background_save": true
    },
    "id": "pwvqSTQsHAKg"
   },
   "outputs": [],
   "source": [
    "def prepare(image):\n",
    "  IMG_SIZE=384\n",
    "  img_array = cv2.imread('/content/drive/MyDrive/gaussian_filtered_images/gaussian_filtered_images/Proliferate_DR/001639a390f0.png', cv2.IMREAD_COLOR)\n",
    "  new_array = cv2.resize(img_array, (IMG_SIZE, IMG_SIZE))\n",
    "  return new_array.reshape(-1, IMG_SIZE, IMG_SIZE, 3)\n",
    "\n",
    "z=cnn.predict([prepare('/content/drive/MyDrive/gaussian_filtered_images/gaussian_filtered_images/Proliferate_DR/001639a390f0.png')])\n",
    "print(z)\n",
    "\n",
    "img = cv2.imread('/content/drive/MyDrive/gaussian_filtered_images/gaussian_filtered_images/Proliferate_DR/001639a390f0.png',0)\n",
    "plt.imshow(img, interpolation = 'bicubic')\n",
    "plt.xticks([]), plt.yticks([])\n",
    "plt.show()"
   ]
  },
  {
   "cell_type": "code",
   "execution_count": null,
   "metadata": {
    "colab": {
     "background_save": true
    },
    "id": "GR5ZTsywHZa7"
   },
   "outputs": [],
   "source": [
    "np.argmax(z)"
   ]
  },
  {
   "cell_type": "code",
   "execution_count": null,
   "metadata": {
    "colab": {
     "background_save": true
    },
    "id": "6EEd5JaPj5B0"
   },
   "outputs": [],
   "source": [
    "def prepare(image):\n",
    "  IMG_SIZE=384\n",
    "  img_array = cv2.imread('/content/drive/MyDrive/gaussian_filtered_images/gaussian_filtered_images/No_DR/002c21358ce6.png', cv2.IMREAD_COLOR)\n",
    "  new_array = cv2.resize(img_array, (IMG_SIZE, IMG_SIZE))\n",
    "  return new_array.reshape(-1, IMG_SIZE, IMG_SIZE, 3)\n",
    "\n",
    "a=cnn.predict([prepare('/content/drive/MyDrive/gaussian_filtered_images/gaussian_filtered_images/No_DR/002c21358ce6.png')])\n",
    "print(a)\n",
    "\n",
    "img = cv2.imread('/content/drive/MyDrive/gaussian_filtered_images/gaussian_filtered_images/No_DR/002c21358ce6.png',0)\n",
    "plt.imshow(img, interpolation = 'bicubic')\n",
    "plt.xticks([]), plt.yticks([])\n",
    "plt.show()"
   ]
  },
  {
   "cell_type": "code",
   "execution_count": null,
   "metadata": {
    "colab": {
     "background_save": true
    },
    "id": "OJExqthJj44j"
   },
   "outputs": [],
   "source": [
    "np.argmax(a)"
   ]
  },
  {
   "cell_type": "code",
   "execution_count": null,
   "metadata": {
    "colab": {
     "background_save": true
    },
    "id": "1OXN6ayBj4mE"
   },
   "outputs": [],
   "source": [
    "def prepare(image):\n",
    "  IMG_SIZE=384\n",
    "  img_array = cv2.imread('/content/drive/MyDrive/gaussian_filtered_images/gaussian_filtered_images/Severe/03c85870824c.png', cv2.IMREAD_COLOR)\n",
    "  new_array = cv2.resize(img_array, (IMG_SIZE, IMG_SIZE))\n",
    "  return new_array.reshape(-1, IMG_SIZE, IMG_SIZE, 3)\n",
    "\n",
    "b=cnn.predict([prepare('/content/drive/MyDrive/gaussian_filtered_images/gaussian_filtered_images/Severe/03c85870824c.png')])\n",
    "print(b)\n",
    "\n",
    "img = cv2.imread('/content/drive/MyDrive/gaussian_filtered_images/gaussian_filtered_images/Severe/03c85870824c.png',0)\n",
    "plt.imshow(img, interpolation = 'bicubic')\n",
    "plt.xticks([]), plt.yticks([])\n",
    "plt.show()"
   ]
  },
  {
   "cell_type": "code",
   "execution_count": null,
   "metadata": {
    "colab": {
     "background_save": true
    },
    "id": "xESZtcfqj4Xt"
   },
   "outputs": [],
   "source": [
    "np.argmax(b)"
   ]
  }
 ],
 "metadata": {
  "accelerator": "GPU",
  "colab": {
   "gpuType": "T4",
   "provenance": []
  },
  "kernelspec": {
   "display_name": "Python 3 (ipykernel)",
   "language": "python",
   "name": "python3"
  },
  "language_info": {
   "codemirror_mode": {
    "name": "ipython",
    "version": 3
   },
   "file_extension": ".py",
   "mimetype": "text/x-python",
   "name": "python",
   "nbconvert_exporter": "python",
   "pygments_lexer": "ipython3",
   "version": "3.12.3"
  }
 },
 "nbformat": 4,
 "nbformat_minor": 4
}
